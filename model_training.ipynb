{
 "cells": [
  {
   "cell_type": "markdown",
   "metadata": {},
   "source": [
    "## Standard Imports"
   ]
  },
  {
   "cell_type": "code",
   "execution_count": 1,
   "metadata": {},
   "outputs": [],
   "source": [
    "import numpy as np\n",
    "import matplotlib.pyplot as plt\n",
    "import pandas as pd\n",
    "import seaborn as sns"
   ]
  },
  {
   "cell_type": "code",
   "execution_count": 2,
   "metadata": {},
   "outputs": [],
   "source": [
    "import torch\n",
    "import torch.nn as nn\n",
    "import torch.nn.functional as F\n",
    "from torch.utils.data import DataLoader\n",
    "from torchvision import datasets,transforms,models"
   ]
  },
  {
   "cell_type": "markdown",
   "metadata": {},
   "source": [
    "Filtering warnings to ignore useless warnings"
   ]
  },
  {
   "cell_type": "code",
   "execution_count": 3,
   "metadata": {},
   "outputs": [],
   "source": [
    "import os\n",
    "import warnings\n",
    "warnings.filterwarnings('ignore')"
   ]
  },
  {
   "cell_type": "markdown",
   "metadata": {},
   "source": [
    "## Applying transformation to the Images"
   ]
  },
  {
   "cell_type": "code",
   "execution_count": 4,
   "metadata": {},
   "outputs": [],
   "source": [
    "train_transform = transforms.Compose([\n",
    "    transforms.RandomRotation(10),\n",
    "    transforms.RandomHorizontalFlip(),\n",
    "    transforms.Resize(224),\n",
    "    transforms.CenterCrop(224),\n",
    "    transforms.ToTensor(),\n",
    "    transforms.Normalize(mean = [0.458,0.456,0.406],std = [0.229,0.224,0.225])\n",
    "])"
   ]
  },
  {
   "cell_type": "markdown",
   "metadata": {},
   "source": [
    "Using means (0.458,0.456,0.406) and standard deviations (0.229,0.224,0.225) respectively for each color channel<br>\n",
    "Why ?<br>\n",
    "From over 10,000 of images these values are found by Researchers at PyTorch Team<br>\n",
    "[Here is a discussion](https://discuss.pytorch.org/t/normalization-in-the-mnist-example/457/22)"
   ]
  },
  {
   "cell_type": "code",
   "execution_count": 5,
   "metadata": {},
   "outputs": [],
   "source": [
    "test_transform = transforms.Compose([\n",
    "    transforms.Resize(224),\n",
    "    transforms.CenterCrop(224),\n",
    "    transforms.ToTensor(),\n",
    "    transforms.Normalize(mean = [0.458,0.456,0.406],std = [0.229,0.224,0.225])\n",
    "])"
   ]
  },
  {
   "cell_type": "markdown",
   "metadata": {},
   "source": [
    "## Loading data"
   ]
  },
  {
   "cell_type": "code",
   "execution_count": 6,
   "metadata": {},
   "outputs": [],
   "source": [
    "root = \"./CATS_DOGS/\"\n",
    "\n",
    "train_data = datasets.ImageFolder(root = os.path.join(root,'train'),transform=train_transform)\n",
    "test_data = datasets.ImageFolder(root = os.path.join(root,'test'),transform=test_transform)"
   ]
  },
  {
   "cell_type": "code",
   "execution_count": 7,
   "metadata": {},
   "outputs": [],
   "source": [
    "train_loader = DataLoader(train_data,shuffle = True,batch_size = 10,pin_memory=True)\n",
    "test_loader = DataLoader(test_data,batch_size = 10,pin_memory=True)"
   ]
  },
  {
   "cell_type": "code",
   "execution_count": 8,
   "metadata": {},
   "outputs": [],
   "source": [
    "class_names = train_data.classes"
   ]
  },
  {
   "cell_type": "code",
   "execution_count": 9,
   "metadata": {},
   "outputs": [],
   "source": [
    "for image,label in train_loader:\n",
    "    break"
   ]
  },
  {
   "cell_type": "code",
   "execution_count": 10,
   "metadata": {},
   "outputs": [
    {
     "data": {
      "text/plain": [
       "torch.Size([10, 3, 224, 224])"
      ]
     },
     "execution_count": 10,
     "metadata": {},
     "output_type": "execute_result"
    }
   ],
   "source": [
    "image.shape"
   ]
  },
  {
   "cell_type": "markdown",
   "metadata": {},
   "source": [
    "## Model Definition and Instantiation"
   ]
  },
  {
   "cell_type": "code",
   "execution_count": 11,
   "metadata": {},
   "outputs": [],
   "source": [
    "class CNNModel(nn.Module):\n",
    "    def __init__(self):\n",
    "        super().__init__()\n",
    "        self.conv1 = nn.Conv2d(3,6,3,1)\n",
    "        self.conv2 = nn.Conv2d(6,16,3,1)\n",
    "        self.fc1 = nn.Linear(54*54*16,120)\n",
    "        self.fc2 = nn.Linear(120,84)\n",
    "        self.fc3 = nn.Linear(84,2)\n",
    "    def forward(self,X):\n",
    "        X = F.relu(self.conv1(X))\n",
    "        X = F.max_pool2d(X,2,2)\n",
    "        X = F.relu(self.conv2(X))\n",
    "        X = F.max_pool2d(X,2,2)\n",
    "        X = X.view(-1,54*54*16)\n",
    "        X = F.relu(self.fc1(X))\n",
    "        X = F.relu(self.fc2(X))\n",
    "        X = self.fc3(X)\n",
    "        return F.log_softmax(X,dim = 1)"
   ]
  },
  {
   "cell_type": "code",
   "execution_count": 12,
   "metadata": {},
   "outputs": [],
   "source": [
    "model = CNNModel()\n",
    "model = model.cuda()"
   ]
  },
  {
   "cell_type": "markdown",
   "metadata": {},
   "source": [
    "## Setting up Loss Function and Optmizer"
   ]
  },
  {
   "cell_type": "code",
   "execution_count": 13,
   "metadata": {},
   "outputs": [],
   "source": [
    "criterion = nn.CrossEntropyLoss()\n",
    "optimizer = torch.optim.Adam(model.parameters(),lr=0.001)"
   ]
  },
  {
   "cell_type": "code",
   "execution_count": 14,
   "metadata": {},
   "outputs": [
    {
     "name": "stdout",
     "output_type": "stream",
     "text": [
      "Epoch 1 batch:125 [1250/18750] loss:0.66 accuracy:54.96\n",
      "Epoch 1 batch:250 [2500/18750] loss:0.72 accuracy:57.52\n",
      "Epoch 1 batch:375 [3750/18750] loss:0.67 accuracy:59.84\n",
      "Epoch 1 batch:500 [5000/18750] loss:0.62 accuracy:59.54\n",
      "Epoch 1 batch:625 [6250/18750] loss:0.77 accuracy:60.32\n",
      "Epoch 1 batch:750 [7500/18750] loss:0.58 accuracy:61.65\n",
      "Epoch 1 batch:875 [8750/18750] loss:0.62 accuracy:62.37\n",
      "Epoch 1 batch:1000 [10000/18750] loss:0.63 accuracy:63.00\n",
      "Epoch 1 batch:1125 [11250/18750] loss:0.56 accuracy:63.82\n",
      "Epoch 1 batch:1250 [12500/18750] loss:0.60 accuracy:64.46\n",
      "Epoch 1 batch:1375 [13750/18750] loss:0.57 accuracy:65.02\n",
      "Epoch 1 batch:1500 [15000/18750] loss:0.46 accuracy:65.41\n",
      "Epoch 1 batch:1625 [16250/18750] loss:0.53 accuracy:65.56\n",
      "Epoch 1 batch:1750 [17500/18750] loss:1.21 accuracy:66.13\n",
      "Epoch 1 batch:1875 [18750/18750] loss:0.29 accuracy:66.57\n",
      "Epoch 2 batch:125 [1250/18750] loss:0.52 accuracy:74.08\n",
      "Epoch 2 batch:250 [2500/18750] loss:0.39 accuracy:74.28\n",
      "Epoch 2 batch:375 [3750/18750] loss:0.48 accuracy:74.48\n",
      "Epoch 2 batch:500 [5000/18750] loss:0.55 accuracy:74.44\n",
      "Epoch 2 batch:625 [6250/18750] loss:0.37 accuracy:74.26\n",
      "Epoch 2 batch:750 [7500/18750] loss:0.79 accuracy:74.37\n",
      "Epoch 2 batch:875 [8750/18750] loss:0.26 accuracy:74.41\n",
      "Epoch 2 batch:1000 [10000/18750] loss:0.58 accuracy:74.58\n",
      "Epoch 2 batch:1125 [11250/18750] loss:0.55 accuracy:74.47\n",
      "Epoch 2 batch:1250 [12500/18750] loss:0.52 accuracy:74.49\n",
      "Epoch 2 batch:1375 [13750/18750] loss:0.47 accuracy:74.67\n",
      "Epoch 2 batch:1500 [15000/18750] loss:0.77 accuracy:74.70\n",
      "Epoch 2 batch:1625 [16250/18750] loss:0.47 accuracy:74.81\n",
      "Epoch 2 batch:1750 [17500/18750] loss:0.54 accuracy:74.87\n",
      "Epoch 2 batch:1875 [18750/18750] loss:0.40 accuracy:74.74\n",
      "Epoch 3 batch:125 [1250/18750] loss:0.49 accuracy:77.92\n",
      "Epoch 3 batch:250 [2500/18750] loss:0.64 accuracy:77.56\n",
      "Epoch 3 batch:375 [3750/18750] loss:0.44 accuracy:77.71\n",
      "Epoch 3 batch:500 [5000/18750] loss:0.44 accuracy:77.38\n",
      "Epoch 3 batch:625 [6250/18750] loss:0.30 accuracy:78.08\n",
      "Epoch 3 batch:750 [7500/18750] loss:0.66 accuracy:77.87\n",
      "Epoch 3 batch:875 [8750/18750] loss:0.41 accuracy:77.68\n",
      "Epoch 3 batch:1000 [10000/18750] loss:0.26 accuracy:77.75\n",
      "Epoch 3 batch:1125 [11250/18750] loss:0.56 accuracy:77.92\n",
      "Epoch 3 batch:1250 [12500/18750] loss:0.52 accuracy:77.98\n",
      "Epoch 3 batch:1375 [13750/18750] loss:0.39 accuracy:77.88\n",
      "Epoch 3 batch:1500 [15000/18750] loss:0.62 accuracy:77.79\n",
      "Epoch 3 batch:1625 [16250/18750] loss:0.31 accuracy:77.96\n",
      "Epoch 3 batch:1750 [17500/18750] loss:0.77 accuracy:77.99\n",
      "Epoch 3 batch:1875 [18750/18750] loss:0.37 accuracy:77.90\n",
      "Epoch 4 batch:125 [1250/18750] loss:0.23 accuracy:81.12\n",
      "Epoch 4 batch:250 [2500/18750] loss:0.38 accuracy:79.72\n",
      "Epoch 4 batch:375 [3750/18750] loss:0.27 accuracy:79.87\n",
      "Epoch 4 batch:500 [5000/18750] loss:0.71 accuracy:79.60\n",
      "Epoch 4 batch:625 [6250/18750] loss:0.42 accuracy:79.57\n",
      "Epoch 4 batch:750 [7500/18750] loss:0.76 accuracy:79.97\n",
      "Epoch 4 batch:875 [8750/18750] loss:0.32 accuracy:80.08\n",
      "Epoch 4 batch:1000 [10000/18750] loss:0.30 accuracy:80.07\n",
      "Epoch 4 batch:1125 [11250/18750] loss:0.41 accuracy:79.80\n",
      "Epoch 4 batch:1250 [12500/18750] loss:0.70 accuracy:79.66\n",
      "Epoch 4 batch:1375 [13750/18750] loss:0.34 accuracy:79.68\n",
      "Epoch 4 batch:1500 [15000/18750] loss:0.27 accuracy:79.77\n",
      "Epoch 4 batch:1625 [16250/18750] loss:0.62 accuracy:79.74\n",
      "Epoch 4 batch:1750 [17500/18750] loss:0.60 accuracy:79.76\n",
      "Epoch 4 batch:1875 [18750/18750] loss:0.15 accuracy:79.82\n",
      "Epoch 5 batch:125 [1250/18750] loss:0.40 accuracy:83.76\n",
      "Epoch 5 batch:250 [2500/18750] loss:0.20 accuracy:82.32\n",
      "Epoch 5 batch:375 [3750/18750] loss:0.36 accuracy:81.57\n",
      "Epoch 5 batch:500 [5000/18750] loss:0.31 accuracy:81.08\n",
      "Epoch 5 batch:625 [6250/18750] loss:0.57 accuracy:81.01\n",
      "Epoch 5 batch:750 [7500/18750] loss:0.34 accuracy:81.04\n",
      "Epoch 5 batch:875 [8750/18750] loss:0.84 accuracy:81.42\n",
      "Epoch 5 batch:1000 [10000/18750] loss:0.39 accuracy:81.26\n",
      "Epoch 5 batch:1125 [11250/18750] loss:0.48 accuracy:81.00\n",
      "Epoch 5 batch:1250 [12500/18750] loss:0.40 accuracy:81.10\n",
      "Epoch 5 batch:1375 [13750/18750] loss:0.15 accuracy:81.16\n",
      "Epoch 5 batch:1500 [15000/18750] loss:0.34 accuracy:81.11\n",
      "Epoch 5 batch:1625 [16250/18750] loss:0.19 accuracy:81.18\n",
      "Epoch 5 batch:1750 [17500/18750] loss:0.33 accuracy:81.19\n",
      "Epoch 5 batch:1875 [18750/18750] loss:0.44 accuracy:81.14\n",
      "Epoch 6 batch:125 [1250/18750] loss:0.61 accuracy:81.92\n",
      "Epoch 6 batch:250 [2500/18750] loss:0.33 accuracy:80.68\n",
      "Epoch 6 batch:375 [3750/18750] loss:0.73 accuracy:81.25\n",
      "Epoch 6 batch:500 [5000/18750] loss:0.42 accuracy:81.62\n",
      "Epoch 6 batch:625 [6250/18750] loss:0.37 accuracy:81.47\n",
      "Epoch 6 batch:750 [7500/18750] loss:0.34 accuracy:81.69\n",
      "Epoch 6 batch:875 [8750/18750] loss:0.41 accuracy:81.49\n",
      "Epoch 6 batch:1000 [10000/18750] loss:0.33 accuracy:81.41\n",
      "Epoch 6 batch:1125 [11250/18750] loss:0.31 accuracy:81.40\n",
      "Epoch 6 batch:1250 [12500/18750] loss:0.53 accuracy:81.60\n",
      "Epoch 6 batch:1375 [13750/18750] loss:0.38 accuracy:81.74\n",
      "Epoch 6 batch:1500 [15000/18750] loss:0.36 accuracy:81.75\n",
      "Epoch 6 batch:1625 [16250/18750] loss:0.21 accuracy:81.78\n",
      "Epoch 6 batch:1750 [17500/18750] loss:0.13 accuracy:81.73\n",
      "Epoch 6 batch:1875 [18750/18750] loss:0.15 accuracy:81.80\n",
      "Epoch 7 batch:125 [1250/18750] loss:0.29 accuracy:84.40\n",
      "Epoch 7 batch:250 [2500/18750] loss:0.21 accuracy:83.36\n",
      "Epoch 7 batch:375 [3750/18750] loss:0.57 accuracy:83.01\n",
      "Epoch 7 batch:500 [5000/18750] loss:0.60 accuracy:83.08\n",
      "Epoch 7 batch:625 [6250/18750] loss:0.21 accuracy:82.86\n",
      "Epoch 7 batch:750 [7500/18750] loss:0.15 accuracy:83.04\n",
      "Epoch 7 batch:875 [8750/18750] loss:0.35 accuracy:82.74\n",
      "Epoch 7 batch:1000 [10000/18750] loss:0.58 accuracy:82.61\n",
      "Epoch 7 batch:1125 [11250/18750] loss:0.32 accuracy:83.04\n",
      "Epoch 7 batch:1250 [12500/18750] loss:0.24 accuracy:82.95\n",
      "Epoch 7 batch:1375 [13750/18750] loss:0.26 accuracy:82.86\n",
      "Epoch 7 batch:1500 [15000/18750] loss:0.50 accuracy:83.00\n",
      "Epoch 7 batch:1625 [16250/18750] loss:0.21 accuracy:82.92\n",
      "Epoch 7 batch:1750 [17500/18750] loss:0.41 accuracy:83.05\n",
      "Epoch 7 batch:1875 [18750/18750] loss:0.64 accuracy:82.96\n",
      "Epoch 8 batch:125 [1250/18750] loss:0.30 accuracy:83.44\n",
      "Epoch 8 batch:250 [2500/18750] loss:0.06 accuracy:83.76\n",
      "Epoch 8 batch:375 [3750/18750] loss:0.13 accuracy:84.51\n",
      "Epoch 8 batch:500 [5000/18750] loss:0.64 accuracy:84.18\n",
      "Epoch 8 batch:625 [6250/18750] loss:0.26 accuracy:84.11\n",
      "Epoch 8 batch:750 [7500/18750] loss:0.65 accuracy:83.88\n",
      "Epoch 8 batch:875 [8750/18750] loss:0.44 accuracy:83.90\n",
      "Epoch 8 batch:1000 [10000/18750] loss:0.66 accuracy:84.09\n",
      "Epoch 8 batch:1125 [11250/18750] loss:0.36 accuracy:84.06\n",
      "Epoch 8 batch:1250 [12500/18750] loss:0.33 accuracy:84.06\n",
      "Epoch 8 batch:1375 [13750/18750] loss:0.37 accuracy:84.01\n",
      "Epoch 8 batch:1500 [15000/18750] loss:0.13 accuracy:84.09\n",
      "Epoch 8 batch:1625 [16250/18750] loss:0.41 accuracy:84.15\n",
      "Epoch 8 batch:1750 [17500/18750] loss:0.67 accuracy:84.09\n",
      "Epoch 8 batch:1875 [18750/18750] loss:0.47 accuracy:83.98\n",
      "Epoch 9 batch:125 [1250/18750] loss:0.08 accuracy:83.36\n",
      "Epoch 9 batch:250 [2500/18750] loss:0.11 accuracy:84.32\n",
      "Epoch 9 batch:375 [3750/18750] loss:0.27 accuracy:84.43\n",
      "Epoch 9 batch:500 [5000/18750] loss:0.29 accuracy:84.72\n",
      "Epoch 9 batch:625 [6250/18750] loss:0.33 accuracy:85.10\n",
      "Epoch 9 batch:750 [7500/18750] loss:0.40 accuracy:85.05\n",
      "Epoch 9 batch:875 [8750/18750] loss:0.24 accuracy:85.06\n",
      "Epoch 9 batch:1000 [10000/18750] loss:0.32 accuracy:85.19\n",
      "Epoch 9 batch:1125 [11250/18750] loss:0.35 accuracy:85.12\n",
      "Epoch 9 batch:1250 [12500/18750] loss:0.32 accuracy:85.10\n",
      "Epoch 9 batch:1375 [13750/18750] loss:0.18 accuracy:85.03\n",
      "Epoch 9 batch:1500 [15000/18750] loss:0.35 accuracy:85.08\n",
      "Epoch 9 batch:1625 [16250/18750] loss:0.21 accuracy:84.97\n",
      "Epoch 9 batch:1750 [17500/18750] loss:0.20 accuracy:84.90\n",
      "Epoch 9 batch:1875 [18750/18750] loss:0.81 accuracy:84.86\n",
      "Epoch 10 batch:125 [1250/18750] loss:0.27 accuracy:85.76\n",
      "Epoch 10 batch:250 [2500/18750] loss:0.17 accuracy:86.12\n",
      "Epoch 10 batch:375 [3750/18750] loss:0.49 accuracy:86.24\n",
      "Epoch 10 batch:500 [5000/18750] loss:0.13 accuracy:85.98\n",
      "Epoch 10 batch:625 [6250/18750] loss:0.26 accuracy:86.00\n",
      "Epoch 10 batch:750 [7500/18750] loss:0.42 accuracy:85.85\n",
      "Epoch 10 batch:875 [8750/18750] loss:0.77 accuracy:85.92\n",
      "Epoch 10 batch:1000 [10000/18750] loss:0.54 accuracy:85.90\n",
      "Epoch 10 batch:1125 [11250/18750] loss:0.25 accuracy:85.90\n",
      "Epoch 10 batch:1250 [12500/18750] loss:0.17 accuracy:85.93\n",
      "Epoch 10 batch:1375 [13750/18750] loss:0.32 accuracy:85.80\n",
      "Epoch 10 batch:1500 [15000/18750] loss:0.19 accuracy:85.62\n",
      "Epoch 10 batch:1625 [16250/18750] loss:0.15 accuracy:85.70\n",
      "Epoch 10 batch:1750 [17500/18750] loss:0.24 accuracy:85.63\n",
      "Epoch 10 batch:1875 [18750/18750] loss:0.21 accuracy:85.59\n",
      "Train Duration : 598.0 minutes 6 seconds\n"
     ]
    }
   ],
   "source": [
    "import time\n",
    "import math\n",
    "start = time.time()\n",
    "epochs = 10\n",
    "train_losses = []\n",
    "train_correct = []\n",
    "test_losses = []\n",
    "test_correct = []\n",
    "\n",
    "for i in range(epochs):\n",
    "    trn_corr = 0\n",
    "    tst_corr = 0\n",
    "    for b,(X_train,Y_train) in enumerate(train_loader):\n",
    "        b+=1\n",
    "        X_train = X_train.cuda()\n",
    "        Y_train = Y_train.cuda()\n",
    "        Y_pred = model(X_train)\n",
    "        loss = criterion(Y_pred,Y_train)\n",
    "        predictions = torch.max(Y_pred.data,1)[1]\n",
    "        trn_corr+= (predictions == Y_train).sum()\n",
    "        if b%125==0:\n",
    "            print(f'Epoch {i+1} batch:{b} [{b*10}/{18750}] loss:{loss.item():.2f} accuracy:{(trn_corr.item()*100)/(10*b):.2f}')\n",
    "        optimizer.zero_grad()\n",
    "        loss.backward()\n",
    "        optimizer.step()\n",
    "    train_losses.append(loss)\n",
    "    train_correct.append(trn_corr)\n",
    "    with torch.no_grad():\n",
    "        for(X_test,Y_test) in test_loader:\n",
    "            X_test = X_test.cuda()\n",
    "            Y_test = Y_test.cuda()\n",
    "            Y_val = model(X_test)\n",
    "            predictions = torch.max(Y_val.data,1)[1]\n",
    "            tst_corr+= (predictions == Y_test).sum()\n",
    "        loss = criterion(Y_val,Y_test)\n",
    "        test_losses.append(loss)\n",
    "        test_correct.append(tst_corr)\n",
    "end = time.time()\n",
    "print(f'Train Duration : {(end-start)//60} minutes {math.ceil((end-start)%60)} seconds')"
   ]
  },
  {
   "cell_type": "code",
   "execution_count": 15,
   "metadata": {},
   "outputs": [
    {
     "data": {
      "text/plain": [
       "<matplotlib.legend.Legend at 0x15a99dc5cf8>"
      ]
     },
     "execution_count": 15,
     "metadata": {},
     "output_type": "execute_result"
    },
    {
     "data": {
      "image/png": "[encoded data removed]",
      "text/plain": [
       "<Figure size 432x288 with 1 Axes>"
      ]
     },
     "metadata": {
      "needs_background": "light"
     },
     "output_type": "display_data"
    }
   ],
   "source": [
    "plt.plot(train_losses,label = 'Train Losses')\n",
    "plt.plot(test_losses,label = 'Test Losses')\n",
    "plt.legend()"
   ]
  },
  {
   "cell_type": "code",
   "execution_count": 18,
   "metadata": {},
   "outputs": [
    {
     "data": {
      "text/plain": [
       "<matplotlib.legend.Legend at 0x15a99eb4b00>"
      ]
     },
     "execution_count": 18,
     "metadata": {},
     "output_type": "execute_result"
    },
    {
     "data": {
      "image/png": "[encoded data removed]",
      "text/plain": [
       "<Figure size 432x288 with 1 Axes>"
      ]
     },
     "metadata": {
      "needs_background": "light"
     },
     "output_type": "display_data"
    }
   ],
   "source": [
    "plt.plot([i for i in range(1,11)],[100*i/18743 for i in train_correct],label = 'Training Accuracy')\n",
    "plt.plot([i for i in range(1,11)],[100*i/6251 for i in test_correct],label = 'Testing Accuracy')\n",
    "plt.legend()"
   ]
  },
  {
   "cell_type": "markdown",
   "metadata": {},
   "source": [
    "## Saving Model"
   ]
  },
  {
   "cell_type": "code",
   "execution_count": 19,
   "metadata": {},
   "outputs": [],
   "source": [
    "torch.save(model.state_dict(),\"./model.pt\")"
   ]
  }
 ],
 "metadata": {
  "kernelspec": {
   "display_name": "Python 3",
   "language": "python",
   "name": "python3"
  },
  "language_info": {
   "codemirror_mode": {
    "name": "ipython",
    "version": 3
   },
   "file_extension": ".py",
   "mimetype": "text/x-python",
   "name": "python",
   "nbconvert_exporter": "python",
   "pygments_lexer": "ipython3",
   "version": "3.7.3"
  }
 },
 "nbformat": 4,
 "nbformat_minor": 4
}
